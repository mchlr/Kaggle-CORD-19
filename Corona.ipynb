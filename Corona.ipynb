{
 "cells": [
  {
   "cell_type": "code",
   "execution_count": 1,
   "metadata": {},
   "outputs": [
    {
     "data": {
      "text/plain": [
       "<Figure size 1600x600 with 0 Axes>"
      ]
     },
     "execution_count": 1,
     "metadata": {},
     "output_type": "execute_result"
    }
   ],
   "source": [
    "import os\n",
    "import numpy as np\n",
    "import seaborn as sns\n",
    "from matplotlib import pyplot as plt\n",
    "import pandas as pd\n",
    "from datetime import datetime\n",
    "import re\n",
    "\n",
    "pd.set_option(\"display.max_rows\", 1000)\n",
    "\n",
    "\n",
    "sns.set(style=\"ticks\", color_codes=True)\n",
    "sns.set(rc={'figure.figsize':(30,15)})\n",
    "plt.figure(figsize=(16, 6))"
   ]
  },
  {
   "cell_type": "code",
   "execution_count": 2,
   "metadata": {},
   "outputs": [],
   "source": [
    "pathBase = \"./data/CORD-19-research-challenge\""
   ]
  },
  {
   "cell_type": "markdown",
   "metadata": {},
   "source": [
    "# Data"
   ]
  },
  {
   "cell_type": "markdown",
   "metadata": {},
   "source": [
    "## Load Metadata-File"
   ]
  },
  {
   "cell_type": "code",
   "execution_count": 3,
   "metadata": {},
   "outputs": [
    {
     "name": "stdout",
     "output_type": "stream",
     "text": [
      "['.DS_Store', 'custom_license', 'metadata.readme', 'json_schema.txt', 'noncomm_use_subset', 'metadata.csv', 'biorxiv_medrxiv', 'COVID.DATA.LIC.AGMT.pdf', 'comm_use_subset']\n"
     ]
    }
   ],
   "source": [
    "dirs = os.listdir(pathBase)\n",
    "\n",
    "print(dirs)"
   ]
  },
  {
   "cell_type": "code",
   "execution_count": 4,
   "metadata": {},
   "outputs": [],
   "source": [
    "rawMeta = pd.read_csv(pathBase + '/' + dirs[5])"
   ]
  },
  {
   "cell_type": "code",
   "execution_count": 5,
   "metadata": {
    "scrolled": true
   },
   "outputs": [
    {
     "name": "stdout",
     "output_type": "stream",
     "text": [
      "DateTime-Conversion Done!\n"
     ]
    }
   ],
   "source": [
    "# Parse Published Columns to dates\n",
    "\n",
    "dates = []\n",
    "\n",
    "dashNot = re.compile(\"^(19|20)\\d\\d[- /.](0[1-9]|1[012])[- /.](0[1-9]|[12][0-9]|3[01])$\")\n",
    "nameNot = re.compile(\"^(\\d\\d\\d\\d)\\s(\\w\\w\\w)\\s(\\d*)$\")\n",
    "yearmoNot = re.compile(\"^(\\d\\d\\d\\d)\\s(\\w\\w\\w)$\")\n",
    "\n",
    "for date in rawMeta[\"publish_time\"].values:\n",
    "    date = str(date) # Convert datee to string to avoid exceptions \n",
    "    tmp = None\n",
    "    \n",
    "    if(date == \"nan\"):\n",
    "        tmp = \"Unknown\"\n",
    "\n",
    "    # Match cases with dash notation e.g.: 1996-03-27\n",
    "    elif(dashNot.match(date)):\n",
    "        tmp = datetime.strptime(date, \"%Y-%m-%d\")\n",
    "\n",
    "    # Match cases with name notation e.g.: 2018 Jun 31\n",
    "    elif(nameNot.match(date)):\n",
    "        if(\"-\" in date):\n",
    "            date = date[:11].rstrip()\n",
    "            \n",
    "        # Try/Except is being used for invalid dates such as Feb 31\n",
    "        try:\n",
    "            tmp = datetime.strptime(date, \"%Y %b %d\")\n",
    "        except ValueError:\n",
    "            # Removes the Day and simply adds 01 as the day\n",
    "            tmp = datetime.strptime((date[:8] + \" 01\"), \"%Y %b %d\")\n",
    "\n",
    "    # Match cases with Year + Monthshorthand e.g.: 2007 May\n",
    "    elif(yearmoNot.match(date)):\n",
    "\n",
    "        if(\"-\" in date):\n",
    "            # ===== IS THIS REASONABLE? =====\n",
    "            # Fix the error-dates such as \"2006 Jun-Dec\" => \"2006 Dec\"\n",
    "            frmt = date.split(\"-\")\n",
    "            date = frmt[0][:5] + frmt[1]\n",
    "        tmp = datetime.strptime(date, \"%Y %b\")\n",
    "\n",
    "    # Match Year only\n",
    "    elif(len(date) == 4):\n",
    "        tmp = datetime.strptime(date, \"%Y\")\n",
    "\n",
    "    # Some dates come in \"string-array\"-notation:\n",
    "    #['2020-02-05', '2020-02'], ['2020-02-04', '2020-02'], ['2020-02-04', '2020-02'], ['2019-09-11', '2020']\n",
    "    elif(\"[]\" in date):\n",
    "        date = date[2:12]\n",
    "        tmp = datetime.strptime(date, \"%Y-%m-%d\")\n",
    "\n",
    "    dates.append(tmp)\n",
    "\n",
    "    \n",
    "print(\"DateTime-Conversion Done!\")\n",
    "   \n",
    "extract = {\"Reference-ID\": rawMeta[\"doi\"].values,\n",
    "           \"Title\": rawMeta[\"title\"].values,\n",
    "           \"Authors\": rawMeta[\"authors\"].values,\n",
    "           \"Abstract\": rawMeta[\"abstract\"].values,\n",
    "           \"Published\": dates,\n",
    "           \"Has_Fulltext\": rawMeta[\"has_full_text\"].values,\n",
    "           \"Directory\": rawMeta[\"full_text_file\"].values\n",
    "          }"
   ]
  },
  {
   "cell_type": "code",
   "execution_count": 6,
   "metadata": {},
   "outputs": [
    {
     "name": "stdout",
     "output_type": "stream",
     "text": [
      "<class 'pandas.core.frame.DataFrame'>\n",
      "RangeIndex: 44220 entries, 0 to 44219\n",
      "Data columns (total 7 columns):\n",
      "Reference-ID    40750 non-null object\n",
      "Title           43996 non-null object\n",
      "Authors         41074 non-null object\n",
      "Abstract        35806 non-null object\n",
      "Published       43981 non-null object\n",
      "Has_Fulltext    44220 non-null bool\n",
      "Directory       32829 non-null object\n",
      "dtypes: bool(1), object(6)\n",
      "memory usage: 2.1+ MB\n"
     ]
    }
   ],
   "source": [
    "meta = pd.DataFrame(extract)\n",
    "\n",
    "meta.info()"
   ]
  },
  {
   "cell_type": "code",
   "execution_count": 7,
   "metadata": {},
   "outputs": [],
   "source": [
    "meta.Directory.fillna(\"n/a\", inplace=True)\n",
    "meta.Published.fillna(pd.NaT, inplace=True)\n",
    "\n",
    "# Drop all entries without Refernce ID, Title and publishing date;\n",
    "# Since these are virtually worth nothing (All properties = NaN)\n",
    "drop = meta.loc[(meta[\"Reference-ID\"].isna()) & (meta[\"Title\"].isna()) & (meta.Published == \"Unknown\")].index\n",
    "meta.drop(drop, inplace=True)\n",
    "\n",
    "meta.loc[(meta.Published == \"Unknown\")] = pd.NaT"
   ]
  },
  {
   "cell_type": "code",
   "execution_count": 15,
   "metadata": {},
   "outputs": [
    {
     "data": {
      "text/html": [
       "<div>\n",
       "<style scoped>\n",
       "    .dataframe tbody tr th:only-of-type {\n",
       "        vertical-align: middle;\n",
       "    }\n",
       "\n",
       "    .dataframe tbody tr th {\n",
       "        vertical-align: top;\n",
       "    }\n",
       "\n",
       "    .dataframe thead th {\n",
       "        text-align: right;\n",
       "    }\n",
       "</style>\n",
       "<table border=\"1\" class=\"dataframe\">\n",
       "  <thead>\n",
       "    <tr style=\"text-align: right;\">\n",
       "      <th></th>\n",
       "      <th>Reference-ID</th>\n",
       "      <th>Title</th>\n",
       "      <th>Authors</th>\n",
       "      <th>Abstract</th>\n",
       "      <th>Published</th>\n",
       "      <th>Has_Fulltext</th>\n",
       "      <th>Directory</th>\n",
       "    </tr>\n",
       "  </thead>\n",
       "  <tbody>\n",
       "    <tr>\n",
       "      <th>26672</th>\n",
       "      <td>NaN</td>\n",
       "      <td>ACUTE HEPATITIS ASSOCIATED WITH MOUSE LEUKEMIA...</td>\n",
       "      <td>Nelson, John B.</td>\n",
       "      <td>Observations on the behavior of MHV (Pr) in th...</td>\n",
       "      <td>1955-10-31 00:00:00</td>\n",
       "      <td>False</td>\n",
       "      <td>noncomm_use_subset</td>\n",
       "    </tr>\n",
       "    <tr>\n",
       "      <th>26673</th>\n",
       "      <td>NaN</td>\n",
       "      <td>THE ENHANCING EFFECT OF MURINE HEPATITIS VIRUS...</td>\n",
       "      <td>Nelson, John B.</td>\n",
       "      <td>Pleuropneumoma-like organisms (PPLO) of the ca...</td>\n",
       "      <td>1957-08-01 00:00:00</td>\n",
       "      <td>True</td>\n",
       "      <td>noncomm_use_subset</td>\n",
       "    </tr>\n",
       "    <tr>\n",
       "      <th>28224</th>\n",
       "      <td>NaN</td>\n",
       "      <td>Enhancement of the Pathogenicity of Mouse Hepa...</td>\n",
       "      <td>Gledhill, A. W.</td>\n",
       "      <td>NaN</td>\n",
       "      <td>1961-09-01 00:00:00</td>\n",
       "      <td>True</td>\n",
       "      <td>custom_license</td>\n",
       "    </tr>\n",
       "    <tr>\n",
       "      <th>26674</th>\n",
       "      <td>NaN</td>\n",
       "      <td>THE CELLULAR NATURE OF GENETIC SUSCEPTIBILITY ...</td>\n",
       "      <td>Kantoch, M.; Warwick, A.; Bang, F. B.</td>\n",
       "      <td>Using peritoneal macrophage cultures it was fo...</td>\n",
       "      <td>1963-05-01 00:00:00</td>\n",
       "      <td>True</td>\n",
       "      <td>noncomm_use_subset</td>\n",
       "    </tr>\n",
       "    <tr>\n",
       "      <th>26616</th>\n",
       "      <td>NaN</td>\n",
       "      <td>AN ELECTRON MICROSCOPE STUDY OF THE DEVELOPMEN...</td>\n",
       "      <td>David-Ferreira, J. F.; Manaker, R. A.</td>\n",
       "      <td>Samples taken at different intervals of time f...</td>\n",
       "      <td>1965-01-01 00:00:00</td>\n",
       "      <td>True</td>\n",
       "      <td>noncomm_use_subset</td>\n",
       "    </tr>\n",
       "    <tr>\n",
       "      <th>...</th>\n",
       "      <td>...</td>\n",
       "      <td>...</td>\n",
       "      <td>...</td>\n",
       "      <td>...</td>\n",
       "      <td>...</td>\n",
       "      <td>...</td>\n",
       "      <td>...</td>\n",
       "    </tr>\n",
       "    <tr>\n",
       "      <th>43550</th>\n",
       "      <td>NaT</td>\n",
       "      <td>NaT</td>\n",
       "      <td>NaT</td>\n",
       "      <td>NaT</td>\n",
       "      <td>NaT</td>\n",
       "      <td>NaT</td>\n",
       "      <td>NaT</td>\n",
       "    </tr>\n",
       "    <tr>\n",
       "      <th>43557</th>\n",
       "      <td>NaT</td>\n",
       "      <td>NaT</td>\n",
       "      <td>NaT</td>\n",
       "      <td>NaT</td>\n",
       "      <td>NaT</td>\n",
       "      <td>NaT</td>\n",
       "      <td>NaT</td>\n",
       "    </tr>\n",
       "    <tr>\n",
       "      <th>43671</th>\n",
       "      <td>10.1111/jvim.15548</td>\n",
       "      <td>Plasma and tissue angiotensin‐converting enzym...</td>\n",
       "      <td>Larouche‐Lebel, Éva; Loughran, Kerry A.; Oyama...</td>\n",
       "      <td>BACKGROUND: Angiotensin‐converting enzyme 2 (A...</td>\n",
       "      <td>NaT</td>\n",
       "      <td>True</td>\n",
       "      <td>noncomm_use_subset</td>\n",
       "    </tr>\n",
       "    <tr>\n",
       "      <th>43950</th>\n",
       "      <td>10.1111/jvim.15481</td>\n",
       "      <td>Efficacy of an orally administered anti‐diarrh...</td>\n",
       "      <td>Nixon, Sophie L.; Rose, Lindsay; Muller, Annik...</td>\n",
       "      <td>BACKGROUND: Acute diarrhea is a common clinica...</td>\n",
       "      <td>NaT</td>\n",
       "      <td>True</td>\n",
       "      <td>noncomm_use_subset</td>\n",
       "    </tr>\n",
       "    <tr>\n",
       "      <th>44191</th>\n",
       "      <td>10.1111/jvim.15386</td>\n",
       "      <td>Disease features of equine coronavirus and ent...</td>\n",
       "      <td>Manship, Arlie J.; Blikslager, Anthony T.; Elf...</td>\n",
       "      <td>BACKGROUND: Equine coronavirus (ECoV) is an em...</td>\n",
       "      <td>NaT</td>\n",
       "      <td>True</td>\n",
       "      <td>noncomm_use_subset</td>\n",
       "    </tr>\n",
       "  </tbody>\n",
       "</table>\n",
       "<p>44150 rows × 7 columns</p>\n",
       "</div>"
      ],
      "text/plain": [
       "             Reference-ID                                              Title  \\\n",
       "26672                 NaN  ACUTE HEPATITIS ASSOCIATED WITH MOUSE LEUKEMIA...   \n",
       "26673                 NaN  THE ENHANCING EFFECT OF MURINE HEPATITIS VIRUS...   \n",
       "28224                 NaN  Enhancement of the Pathogenicity of Mouse Hepa...   \n",
       "26674                 NaN  THE CELLULAR NATURE OF GENETIC SUSCEPTIBILITY ...   \n",
       "26616                 NaN  AN ELECTRON MICROSCOPE STUDY OF THE DEVELOPMEN...   \n",
       "...                   ...                                                ...   \n",
       "43550                 NaT                                                NaT   \n",
       "43557                 NaT                                                NaT   \n",
       "43671  10.1111/jvim.15548  Plasma and tissue angiotensin‐converting enzym...   \n",
       "43950  10.1111/jvim.15481  Efficacy of an orally administered anti‐diarrh...   \n",
       "44191  10.1111/jvim.15386  Disease features of equine coronavirus and ent...   \n",
       "\n",
       "                                                 Authors  \\\n",
       "26672                                    Nelson, John B.   \n",
       "26673                                    Nelson, John B.   \n",
       "28224                                    Gledhill, A. W.   \n",
       "26674              Kantoch, M.; Warwick, A.; Bang, F. B.   \n",
       "26616              David-Ferreira, J. F.; Manaker, R. A.   \n",
       "...                                                  ...   \n",
       "43550                                                NaT   \n",
       "43557                                                NaT   \n",
       "43671  Larouche‐Lebel, Éva; Loughran, Kerry A.; Oyama...   \n",
       "43950  Nixon, Sophie L.; Rose, Lindsay; Muller, Annik...   \n",
       "44191  Manship, Arlie J.; Blikslager, Anthony T.; Elf...   \n",
       "\n",
       "                                                Abstract            Published  \\\n",
       "26672  Observations on the behavior of MHV (Pr) in th...  1955-10-31 00:00:00   \n",
       "26673  Pleuropneumoma-like organisms (PPLO) of the ca...  1957-08-01 00:00:00   \n",
       "28224                                                NaN  1961-09-01 00:00:00   \n",
       "26674  Using peritoneal macrophage cultures it was fo...  1963-05-01 00:00:00   \n",
       "26616  Samples taken at different intervals of time f...  1965-01-01 00:00:00   \n",
       "...                                                  ...                  ...   \n",
       "43550                                                NaT                  NaT   \n",
       "43557                                                NaT                  NaT   \n",
       "43671  BACKGROUND: Angiotensin‐converting enzyme 2 (A...                  NaT   \n",
       "43950  BACKGROUND: Acute diarrhea is a common clinica...                  NaT   \n",
       "44191  BACKGROUND: Equine coronavirus (ECoV) is an em...                  NaT   \n",
       "\n",
       "      Has_Fulltext           Directory  \n",
       "26672        False  noncomm_use_subset  \n",
       "26673         True  noncomm_use_subset  \n",
       "28224         True      custom_license  \n",
       "26674         True  noncomm_use_subset  \n",
       "26616         True  noncomm_use_subset  \n",
       "...            ...                 ...  \n",
       "43550          NaT                 NaT  \n",
       "43557          NaT                 NaT  \n",
       "43671         True  noncomm_use_subset  \n",
       "43950         True  noncomm_use_subset  \n",
       "44191         True  noncomm_use_subset  \n",
       "\n",
       "[44150 rows x 7 columns]"
      ]
     },
     "execution_count": 15,
     "metadata": {},
     "output_type": "execute_result"
    }
   ],
   "source": [
    "meta.sort_values(by=\"Published\")"
   ]
  },
  {
   "cell_type": "code",
   "execution_count": 19,
   "metadata": {},
   "outputs": [
    {
     "data": {
      "text/plain": [
       "Reference-ID                           10.1016/j.bmcl.2015.05.039\n",
       "Title           Design, synthesis and evaluation of a series o...\n",
       "Authors         Peters, Hannah L.; Jochmans, Dirk; de Wilde, A...\n",
       "Abstract        Abstract A series of doubly flexible nucleosid...\n",
       "Published                                     2015-08-01 00:00:00\n",
       "Has_Fulltext                                                 True\n",
       "Directory                                          custom_license\n",
       "Name: 43620, dtype: object"
      ]
     },
     "execution_count": 19,
     "metadata": {},
     "output_type": "execute_result"
    }
   ],
   "source": [
    "#meta.loc[(meta[\"Reference-ID\"] == pd.NaT)]\n",
    "#meta.iloc[43550]"
   ]
  },
  {
   "cell_type": "markdown",
   "metadata": {},
   "source": [
    "## Analyze Titles"
   ]
  },
  {
   "cell_type": "code",
   "execution_count": 25,
   "metadata": {},
   "outputs": [
    {
     "data": {
      "text/plain": [
       "['Intrauterine',\n",
       " 'virus',\n",
       " 'infections',\n",
       " 'and',\n",
       " 'congenital',\n",
       " 'heart',\n",
       " 'disease']"
      ]
     },
     "execution_count": 25,
     "metadata": {},
     "output_type": "execute_result"
    }
   ],
   "source": [
    "titles = meta.Title.values\n",
    "\n",
    "words = titles[0].split(\" \")\n",
    "\n",
    "words\n",
    "#for t in titles:\n",
    "    "
   ]
  },
  {
   "cell_type": "code",
   "execution_count": null,
   "metadata": {},
   "outputs": [],
   "source": []
  }
 ],
 "metadata": {
  "kernelspec": {
   "display_name": "Python 3",
   "language": "python",
   "name": "python3"
  },
  "language_info": {
   "codemirror_mode": {
    "name": "ipython",
    "version": 3
   },
   "file_extension": ".py",
   "mimetype": "text/x-python",
   "name": "python",
   "nbconvert_exporter": "python",
   "pygments_lexer": "ipython3",
   "version": "3.7.7"
  }
 },
 "nbformat": 4,
 "nbformat_minor": 2
}
