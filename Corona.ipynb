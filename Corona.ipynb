{
 "cells": [
  {
   "cell_type": "code",
   "execution_count": 130,
   "metadata": {},
   "outputs": [
    {
     "data": {
      "text/plain": [
       "<Figure size 1152x432 with 0 Axes>"
      ]
     },
     "execution_count": 130,
     "metadata": {},
     "output_type": "execute_result"
    },
    {
     "data": {
      "text/plain": [
       "<Figure size 1152x432 with 0 Axes>"
      ]
     },
     "metadata": {},
     "output_type": "display_data"
    }
   ],
   "source": [
    "import os\n",
    "import numpy as np\n",
    "import seaborn as sns\n",
    "from matplotlib import pyplot as plt\n",
    "import pandas as pd\n",
    "from datetime import datetime\n",
    "import re\n",
    "\n",
    "pd.set_option(\"display.max_rows\", 1000)\n",
    "\n",
    "\n",
    "sns.set(style=\"ticks\", color_codes=True)\n",
    "sns.set(rc={'figure.figsize':(30,15)})\n",
    "plt.figure(figsize=(16, 6))"
   ]
  },
  {
   "cell_type": "code",
   "execution_count": 131,
   "metadata": {},
   "outputs": [],
   "source": [
    "pathBase = \"./data/CORD-19-research-challenge\""
   ]
  },
  {
   "cell_type": "markdown",
   "metadata": {},
   "source": [
    "# Data"
   ]
  },
  {
   "cell_type": "markdown",
   "metadata": {},
   "source": [
    "## Load Metadata-File"
   ]
  },
  {
   "cell_type": "code",
   "execution_count": 132,
   "metadata": {},
   "outputs": [
    {
     "name": "stdout",
     "output_type": "stream",
     "text": [
      "['.DS_Store', 'custom_license', 'metadata.readme', 'json_schema.txt', 'noncomm_use_subset', 'metadata.csv', 'biorxiv_medrxiv', 'COVID.DATA.LIC.AGMT.pdf', 'comm_use_subset']\n"
     ]
    }
   ],
   "source": [
    "dirs = os.listdir(pathBase)\n",
    "\n",
    "print(dirs)"
   ]
  },
  {
   "cell_type": "code",
   "execution_count": 133,
   "metadata": {},
   "outputs": [],
   "source": [
    "rawMeta = pd.read_csv(pathBase + '/' + dirs[5])"
   ]
  },
  {
   "cell_type": "code",
   "execution_count": 136,
   "metadata": {
    "scrolled": true
   },
   "outputs": [
    {
     "name": "stdout",
     "output_type": "stream",
     "text": [
      "DateTime-Conversion Done!\n"
     ]
    }
   ],
   "source": [
    "# Parse Published Columns to dates\n",
    "\n",
    "dates = []\n",
    "\n",
    "dashNot = re.compile(\"^(19|20)\\d\\d[- /.](0[1-9]|1[012])[- /.](0[1-9]|[12][0-9]|3[01])$\")\n",
    "nameNot = re.compile(\"^(\\d\\d\\d\\d)\\s(\\w\\w\\w)\\s(\\d*)$\")\n",
    "yearmoNot = re.compile(\"^(\\d\\d\\d\\d)\\s(\\w\\w\\w)$\")\n",
    "\n",
    "for date in rawMeta[\"publish_time\"].values:\n",
    "    date = str(date) # Convert datee to string to avoid exceptions \n",
    "    tmp = None\n",
    "    \n",
    "    if(date == \"nan\"):\n",
    "        tmp = \"Unknown\"\n",
    "\n",
    "    # Match cases with dash notation e.g.: 1996-03-27\n",
    "    elif(dashNot.match(date)):\n",
    "        tmp = datetime.strptime(date, \"%Y-%m-%d\")\n",
    "\n",
    "    # Match cases with name notation e.g.: 2018 Jun 31\n",
    "    elif(nameNot.match(date)):\n",
    "        if(\"-\" in date):\n",
    "            date = date[:11].rstrip()\n",
    "            \n",
    "        # Try/Except is being used for invalid dates such as Feb 31\n",
    "        try:\n",
    "            tmp = datetime.strptime(date, \"%Y %b %d\")\n",
    "        except ValueError:\n",
    "            # Removes the Day and simply adds 01 as the day\n",
    "            tmp = datetime.strptime((date[:8] + \" 01\"), \"%Y %b %d\")\n",
    "\n",
    "    # Match cases with Year + Monthshorthand e.g.: 2007 May\n",
    "    elif(yearmoNot.match(date)):\n",
    "\n",
    "        if(\"-\" in date):\n",
    "            # ===== IS THIS REASONABLE? =====\n",
    "            # Fix the error-dates such as \"2006 Jun-Dec\" => \"2006 Dec\"\n",
    "            frmt = date.split(\"-\")\n",
    "            date = frmt[0][:5] + frmt[1]\n",
    "        tmp = datetime.strptime(date, \"%Y %b\")\n",
    "\n",
    "    # Match Year only\n",
    "    elif(len(date) == 4):\n",
    "        tmp = datetime.strptime(date, \"%Y\")\n",
    "\n",
    "    # Some dates come in \"string-array\"-notation:\n",
    "    #['2020-02-05', '2020-02'], ['2020-02-04', '2020-02'], ['2020-02-04', '2020-02'], ['2019-09-11', '2020']\n",
    "    elif(\"[]\" in date):\n",
    "        date = date[2:12]\n",
    "        tmp = datetime.strptime(date, \"%Y-%m-%d\")\n",
    "\n",
    "    dates.append(tmp)\n",
    "\n",
    "    \n",
    "print(\"DateTime-Conversion Done!\")\n",
    "   \n",
    "extract = {\"Reference-ID\": rawMeta[\"doi\"].values,\n",
    "           \"Title\": rawMeta[\"title\"].values,\n",
    "           \"Authors\": rawMeta[\"authors\"].values,\n",
    "           \"Abstract\": rawMeta[\"abstract\"].values,\n",
    "           \"Published\": dates,\n",
    "           \"Has_Fulltext\": rawMeta[\"has_full_text\"].values,\n",
    "           \"Directory\": rawMeta[\"full_text_file\"].values\n",
    "          }"
   ]
  },
  {
   "cell_type": "code",
   "execution_count": 137,
   "metadata": {},
   "outputs": [
    {
     "name": "stdout",
     "output_type": "stream",
     "text": [
      "<class 'pandas.core.frame.DataFrame'>\n",
      "RangeIndex: 44220 entries, 0 to 44219\n",
      "Data columns (total 7 columns):\n",
      "Reference-ID    40750 non-null object\n",
      "Title           43996 non-null object\n",
      "Authors         41074 non-null object\n",
      "Abstract        35806 non-null object\n",
      "Published       44220 non-null object\n",
      "Has_Fulltext    44220 non-null bool\n",
      "Directory       44220 non-null object\n",
      "dtypes: bool(1), object(6)\n",
      "memory usage: 2.1+ MB\n"
     ]
    }
   ],
   "source": [
    "meta = pd.DataFrame(extract)\n",
    "\n",
    "meta.Directory.fillna(\"n/a\", inplace=True)\n",
    "meta.Published.fillna(datetime(1, 1, 1), inplace=True)\n",
    "\n",
    "# Remove otherwise corrupted Published-Values\n",
    "#meta.drop(meta.index[((meta.Published == \"Unknown\") | (meta.Published == None)) & ((meta[\"Reference-ID\"] != \"Unknown\") | (meta[\"Reference-ID\"] != None))], inplace = True)\n",
    "\n",
    "\n",
    "meta.info()"
   ]
  },
  {
   "cell_type": "code",
   "execution_count": 153,
   "metadata": {},
   "outputs": [
    {
     "data": {
      "text/html": [
       "<div>\n",
       "<style scoped>\n",
       "    .dataframe tbody tr th:only-of-type {\n",
       "        vertical-align: middle;\n",
       "    }\n",
       "\n",
       "    .dataframe tbody tr th {\n",
       "        vertical-align: top;\n",
       "    }\n",
       "\n",
       "    .dataframe thead th {\n",
       "        text-align: right;\n",
       "    }\n",
       "</style>\n",
       "<table border=\"1\" class=\"dataframe\">\n",
       "  <thead>\n",
       "    <tr style=\"text-align: right;\">\n",
       "      <th></th>\n",
       "      <th>Reference-ID</th>\n",
       "      <th>Title</th>\n",
       "      <th>Authors</th>\n",
       "      <th>Abstract</th>\n",
       "      <th>Published</th>\n",
       "      <th>Has_Fulltext</th>\n",
       "      <th>Directory</th>\n",
       "    </tr>\n",
       "  </thead>\n",
       "  <tbody>\n",
       "    <tr>\n",
       "      <th>8553</th>\n",
       "      <td>NaN</td>\n",
       "      <td>NaN</td>\n",
       "      <td>NaN</td>\n",
       "      <td>NaN</td>\n",
       "      <td>Unknown</td>\n",
       "      <td>False</td>\n",
       "      <td>custom_license</td>\n",
       "    </tr>\n",
       "    <tr>\n",
       "      <th>8995</th>\n",
       "      <td>NaN</td>\n",
       "      <td>NaN</td>\n",
       "      <td>NaN</td>\n",
       "      <td>NaN</td>\n",
       "      <td>Unknown</td>\n",
       "      <td>False</td>\n",
       "      <td>custom_license</td>\n",
       "    </tr>\n",
       "    <tr>\n",
       "      <th>8996</th>\n",
       "      <td>NaN</td>\n",
       "      <td>NaN</td>\n",
       "      <td>NaN</td>\n",
       "      <td>NaN</td>\n",
       "      <td>Unknown</td>\n",
       "      <td>False</td>\n",
       "      <td>custom_license</td>\n",
       "    </tr>\n",
       "    <tr>\n",
       "      <th>8998</th>\n",
       "      <td>NaN</td>\n",
       "      <td>NaN</td>\n",
       "      <td>NaN</td>\n",
       "      <td>NaN</td>\n",
       "      <td>Unknown</td>\n",
       "      <td>False</td>\n",
       "      <td>custom_license</td>\n",
       "    </tr>\n",
       "    <tr>\n",
       "      <th>8999</th>\n",
       "      <td>NaN</td>\n",
       "      <td>NaN</td>\n",
       "      <td>NaN</td>\n",
       "      <td>NaN</td>\n",
       "      <td>Unknown</td>\n",
       "      <td>False</td>\n",
       "      <td>custom_license</td>\n",
       "    </tr>\n",
       "    <tr>\n",
       "      <th>...</th>\n",
       "      <td>...</td>\n",
       "      <td>...</td>\n",
       "      <td>...</td>\n",
       "      <td>...</td>\n",
       "      <td>...</td>\n",
       "      <td>...</td>\n",
       "      <td>...</td>\n",
       "    </tr>\n",
       "    <tr>\n",
       "      <th>42227</th>\n",
       "      <td>10.7554/eLife.31257</td>\n",
       "      <td>MERS-CoV spillover at the camel-human interface</td>\n",
       "      <td>Dudas, Gytis; Carvalho, Luiz Max; Rambaut, And...</td>\n",
       "      <td>Middle East respiratory syndrome coronavirus (...</td>\n",
       "      <td>Unknown</td>\n",
       "      <td>True</td>\n",
       "      <td>comm_use_subset</td>\n",
       "    </tr>\n",
       "    <tr>\n",
       "      <th>42935</th>\n",
       "      <td>10.7554/eLife.44345</td>\n",
       "      <td>ADAM17-dependent signaling is required for onc...</td>\n",
       "      <td>Mikuličić, Snježana; Finke, Jérôme; Boukhallou...</td>\n",
       "      <td>Oncogenic human papillomaviruses (HPV) are sma...</td>\n",
       "      <td>Unknown</td>\n",
       "      <td>True</td>\n",
       "      <td>comm_use_subset</td>\n",
       "    </tr>\n",
       "    <tr>\n",
       "      <th>43413</th>\n",
       "      <td>10.7554/eLife.31662</td>\n",
       "      <td>Functional role of the type 1 pilus rod struct...</td>\n",
       "      <td>Spaulding, Caitlin N; Schreiber, Henry Louis; ...</td>\n",
       "      <td>Uropathogenic E. coli (UPEC), which cause urin...</td>\n",
       "      <td>Unknown</td>\n",
       "      <td>True</td>\n",
       "      <td>comm_use_subset</td>\n",
       "    </tr>\n",
       "    <tr>\n",
       "      <th>43550</th>\n",
       "      <td>10.7189/jogh.05.020418</td>\n",
       "      <td>Etiology of community acquired pneumonia among...</td>\n",
       "      <td>Mathew, Joseph L.; Singhi, Sunit; Ray, Pallab;...</td>\n",
       "      <td>BACKGROUND: Childhood community acquired pneum...</td>\n",
       "      <td>Unknown</td>\n",
       "      <td>True</td>\n",
       "      <td>comm_use_subset</td>\n",
       "    </tr>\n",
       "    <tr>\n",
       "      <th>43557</th>\n",
       "      <td>10.7189/jogh.05.020417</td>\n",
       "      <td>Burden of respiratory syncytial virus infectio...</td>\n",
       "      <td>Zhang, Yaowen; Yuan, Lichao; Zhang, Yongming; ...</td>\n",
       "      <td>BACKGROUND: Respiratory syncytial virus (RSV) ...</td>\n",
       "      <td>Unknown</td>\n",
       "      <td>True</td>\n",
       "      <td>comm_use_subset</td>\n",
       "    </tr>\n",
       "  </tbody>\n",
       "</table>\n",
       "<p>10023 rows × 7 columns</p>\n",
       "</div>"
      ],
      "text/plain": [
       "                 Reference-ID  \\\n",
       "8553                      NaN   \n",
       "8995                      NaN   \n",
       "8996                      NaN   \n",
       "8998                      NaN   \n",
       "8999                      NaN   \n",
       "...                       ...   \n",
       "42227     10.7554/eLife.31257   \n",
       "42935     10.7554/eLife.44345   \n",
       "43413     10.7554/eLife.31662   \n",
       "43550  10.7189/jogh.05.020418   \n",
       "43557  10.7189/jogh.05.020417   \n",
       "\n",
       "                                                   Title  \\\n",
       "8553                                                 NaN   \n",
       "8995                                                 NaN   \n",
       "8996                                                 NaN   \n",
       "8998                                                 NaN   \n",
       "8999                                                 NaN   \n",
       "...                                                  ...   \n",
       "42227    MERS-CoV spillover at the camel-human interface   \n",
       "42935  ADAM17-dependent signaling is required for onc...   \n",
       "43413  Functional role of the type 1 pilus rod struct...   \n",
       "43550  Etiology of community acquired pneumonia among...   \n",
       "43557  Burden of respiratory syncytial virus infectio...   \n",
       "\n",
       "                                                 Authors  \\\n",
       "8553                                                 NaN   \n",
       "8995                                                 NaN   \n",
       "8996                                                 NaN   \n",
       "8998                                                 NaN   \n",
       "8999                                                 NaN   \n",
       "...                                                  ...   \n",
       "42227  Dudas, Gytis; Carvalho, Luiz Max; Rambaut, And...   \n",
       "42935  Mikuličić, Snježana; Finke, Jérôme; Boukhallou...   \n",
       "43413  Spaulding, Caitlin N; Schreiber, Henry Louis; ...   \n",
       "43550  Mathew, Joseph L.; Singhi, Sunit; Ray, Pallab;...   \n",
       "43557  Zhang, Yaowen; Yuan, Lichao; Zhang, Yongming; ...   \n",
       "\n",
       "                                                Abstract Published  \\\n",
       "8553                                                 NaN   Unknown   \n",
       "8995                                                 NaN   Unknown   \n",
       "8996                                                 NaN   Unknown   \n",
       "8998                                                 NaN   Unknown   \n",
       "8999                                                 NaN   Unknown   \n",
       "...                                                  ...       ...   \n",
       "42227  Middle East respiratory syndrome coronavirus (...   Unknown   \n",
       "42935  Oncogenic human papillomaviruses (HPV) are sma...   Unknown   \n",
       "43413  Uropathogenic E. coli (UPEC), which cause urin...   Unknown   \n",
       "43550  BACKGROUND: Childhood community acquired pneum...   Unknown   \n",
       "43557  BACKGROUND: Respiratory syncytial virus (RSV) ...   Unknown   \n",
       "\n",
       "       Has_Fulltext        Directory  \n",
       "8553          False   custom_license  \n",
       "8995          False   custom_license  \n",
       "8996          False   custom_license  \n",
       "8998          False   custom_license  \n",
       "8999          False   custom_license  \n",
       "...             ...              ...  \n",
       "42227          True  comm_use_subset  \n",
       "42935          True  comm_use_subset  \n",
       "43413          True  comm_use_subset  \n",
       "43550          True  comm_use_subset  \n",
       "43557          True  comm_use_subset  \n",
       "\n",
       "[10023 rows x 7 columns]"
      ]
     },
     "execution_count": 153,
     "metadata": {},
     "output_type": "execute_result"
    }
   ],
   "source": [
    "meta.loc[(meta.Published == \"Unknown\")]\n",
    "\n",
    "#meta.loc[(meta[\"Reference-ID\"].isna())]"
   ]
  },
  {
   "cell_type": "code",
   "execution_count": null,
   "metadata": {},
   "outputs": [],
   "source": []
  }
 ],
 "metadata": {
  "kernelspec": {
   "display_name": "Python 3",
   "language": "python",
   "name": "python3"
  },
  "language_info": {
   "codemirror_mode": {
    "name": "ipython",
    "version": 3
   },
   "file_extension": ".py",
   "mimetype": "text/x-python",
   "name": "python",
   "nbconvert_exporter": "python",
   "pygments_lexer": "ipython3",
   "version": "3.7.7"
  }
 },
 "nbformat": 4,
 "nbformat_minor": 2
}
